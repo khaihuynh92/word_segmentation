{
 "cells": [
  {
   "cell_type": "code",
   "execution_count": 1,
   "metadata": {
    "collapsed": true
   },
   "outputs": [],
   "source": [
    "# -*- coding: utf-8 -*-\n",
    "import io\n",
    "from random import randint"
   ]
  },
  {
   "cell_type": "code",
   "execution_count": 2,
   "metadata": {
    "collapsed": true
   },
   "outputs": [],
   "source": [
    "def segment(text, segs):\n",
    "    words = []\n",
    "    last = 0\n",
    "    for i in range(len(segs)):\n",
    "        if segs[i] == '1':\n",
    "            words.append(text[last:i+1])\n",
    "            last = i+1\n",
    "    words.append(text[last:]) \n",
    "    return words\n",
    "\n",
    "\n",
    "def evaluate(text, segs):\n",
    "\n",
    "    words = segment(text, segs)\n",
    "    text_size = len(words)\n",
    "    lexicon_size = len(' '.join(list(set(words)))) \n",
    "    return text_size + lexicon_size\n",
    "\n",
    "\n",
    "\n",
    "def flip(segs, pos):\n",
    "    return segs[:pos] + str(1-int(segs[pos])) + segs[pos+1:]\n",
    "\n",
    "def flip_n(segs, n): \n",
    "    for i in range(n):\n",
    "        segs = flip(segs, randint(0,len(segs)-1)) \n",
    "    return segs\n",
    "\n",
    "def anneal(text, segs, iterations, rate): \n",
    "    temperature = float(len(segs))\n",
    "    while temperature > 0.1:\n",
    "        best_segs, best = segs, evaluate(text, segs) \n",
    "        \n",
    "        for i in (range(iterations)):\n",
    "            guess = flip_n(segs, int(round(temperature))) \n",
    "            score = evaluate(text, guess)\n",
    "            if score < best:\n",
    "                best, best_segs = score, guess \n",
    "            \n",
    "        score, segs = best, best_segs\n",
    "        temperature = temperature / rate\n",
    "        print evaluate(text, segs), segment(text, segs)\n",
    "    return score, segs"
   ]
  },
  {
   "cell_type": "code",
   "execution_count": 3,
   "metadata": {
    "collapsed": true
   },
   "outputs": [],
   "source": [
    "# Normalize funcs\n",
    "s1 = u'ÀÁÂÃÈÉÊÌÍÒÓÔÕÙÚÝàáâãèéêìíòóôõùúýĂăĐđĨĩŨũƠơƯưẠạẢảẤấẦầẨẩẪẫẬậẮắẰằẲẳẴẵẶặẸẹẺẻẼẽẾếỀềỂểỄễỆệỈỉỊịỌọỎỏỐốỒồỔổỖỗỘộỚớỜờỞởỠỡỢợỤụỦủỨứỪừỬửỮữỰựỲỳỴỵỶỷỸỹ'\n",
    "s0 = u'AAAAEEEIIOOOOUUYaaaaeeeiioooouuyAaDdIiUuOoUuAaAaAaAaAaAaAaAaAaAaAaAaEeEeEeEeEeEeEeEeIiIiOoOoOoOoOoOoOoOoOoOoOoOoUuUuUuUuUuUuUuYyYyYyYy'\n",
    "\n",
    "\n",
    "def normalize(input_str):\n",
    "    s = ''\n",
    "    for c in input_str:\n",
    "        if c in s1:\n",
    "            s += s0[s1.index(c)]\n",
    "        else:\n",
    "            s += c\n",
    "    s = s.replace(' ', '').lower().strip()\n",
    "    \n",
    "    return s\n",
    "    "
   ]
  },
  {
   "cell_type": "code",
   "execution_count": 4,
   "metadata": {
    "collapsed": true
   },
   "outputs": [],
   "source": [
    "# Load products name from file\n",
    "with io.open(\"terms.txt\", mode=\"r\", encoding=\"utf-8\") as f:\n",
    "    names = f.readlines()\n",
    "# Normalize\n",
    "names = map(normalize, names)"
   ]
  },
  {
   "cell_type": "code",
   "execution_count": 5,
   "metadata": {
    "collapsed": true
   },
   "outputs": [],
   "source": [
    "# Default segnment by product name\n",
    "def str_to_bit(str):\n",
    "    l = len(str)\n",
    "    pre  = ['0']* (l - 1)\n",
    "    suff = '1'\n",
    "    pre.append(suff)\n",
    "\n",
    "    text = ''.join(pre)\n",
    "    return text\n",
    "\n",
    "def default_segmentation(terms):\n",
    "    bit_segs = map(str_to_bit, terms)\n",
    "    end = bit_segs[len(bit_segs) - 1]\n",
    "    # slice the ending bit\n",
    "    end = end[:-1]\n",
    "    bit_segs[len(bit_segs) - 1] = end\n",
    "    return ''.join(bit_segs)\n",
    "    "
   ]
  },
  {
   "cell_type": "code",
   "execution_count": 6,
   "metadata": {},
   "outputs": [
    {
     "name": "stdout",
     "output_type": "stream",
     "text": [
      "107 ['dienthoaiiphonex256gbhangnhapkhau', 'dienthoaiiphone8plus64gbhangchinhhangfpt', 'dienthoaihtc10hangchinhhang', '']\n",
      "107 ['dienthoaiiphonex256gbhangnhapkhau', 'dienthoaiiphone8plus64gbhangchinhhangfpt', 'dienthoaihtc10hangchinhhang', '']\n",
      "107 ['dienthoaiiphonex256gbhangnhapkhau', 'dienthoaiiphone8plus64gbhangchinhhangfpt', 'dienthoaihtc10hangchinhhang', '']\n",
      "107 ['dienthoaiiphonex256gbhangnhapkhau', 'dienthoaiiphone8plus64gbhangchinhhangfpt', 'dienthoaihtc10hangchinhhang', '']\n",
      "107 ['dienthoaiiphonex256gbhangnhapkhau', 'dienthoaiiphone8plus64gbhangchinhhangfpt', 'dienthoaihtc10hangchinhhang', '']\n",
      "107 ['dienthoaiiphonex256gbhangnhapkhau', 'dienthoaiiphone8plus64gbhangchinhhangfpt', 'dienthoaihtc10hangchinhhang', '']\n",
      "107 ['dienthoaiiphonex256gbhangnhapkhau', 'dienthoaiiphone8plus64gbhangchinhhangfpt', 'dienthoaihtc10hangchinhhang', '']\n",
      "107 ['dienthoaiiphonex256gbhangnhapkhau', 'dienthoaiiphone8plus64gbhangchinhhangfpt', 'dienthoaihtc10hangchinhhang', '']\n",
      "107 ['dienthoaiiphonex256gbhangnhapkhau', 'dienthoaiiphone8plus64gbhangchinhhangfpt', 'dienthoaihtc10hangchinhhang', '']\n",
      "107 ['dienthoaiiphonex256gbhangnhapkhau', 'dienthoaiiphone8plus64gbhangchinhhangfpt', 'dienthoaihtc10hangchinhhang', '']\n",
      "107 ['dienthoaiiphonex256gbhangnhapkhau', 'dienthoaiiphone8plus64gbhangchinhhangfpt', 'dienthoaihtc10hangchinhhang', '']\n",
      "107 ['dienthoaiiphonex256gbhangnhapkhau', 'dienthoaiiphone8plus64gbhangchinhhangfpt', 'dienthoaihtc10hangchinhhang', '']\n",
      "107 ['dienthoaiiphonex256gbhangnhapkhau', 'dienthoaiiphone8plus64gbhangchinhhangfpt', 'dienthoaihtc10hangchinhhang', '']\n",
      "107 ['dienthoaiiphonex256gbhangnhapkhau', 'dienthoaiiphone8plus64gbhangchinhhangfpt', 'dienthoaihtc10hangchinhhang', '']\n",
      "107 ['dienthoaiiphonex256gbhangnhapkhau', 'dienthoaiiphone8plus64gbhangchinhhangfpt', 'dienthoaihtc10hangchinhhang', '']\n",
      "107 ['dienthoaiiphonex256gbhangnhapkhau', 'dienthoaiiphone8plus64gbhangchinhhangfpt', 'dienthoaihtc10hangchinhhang', '']\n",
      "107 ['dienthoaiiphonex256gbhangnhapkhau', 'dienthoaiiphone8plus64gbhangchinhhangfpt', 'dienthoaihtc10hangchinhhang', '']\n",
      "107 ['dienthoaiiphonex256gbhangnhapkhau', 'dienthoaiiphone8plus64gbhangchinhhangfpt', 'dienthoaihtc10hangchinhhang', '']\n",
      "107 ['dienthoaiiphonex256gbhangnhapkhau', 'dienthoaiiphone8plus64gbhangchinhhangfpt', 'dienthoaihtc10hangchinhhang', '']\n",
      "107 ['dienthoaiiphonex256gbhangnhapkhau', 'dienthoaiiphone8plus64gbhangchinhhangfpt', 'dienthoaihtc10hangchinhhang', '']\n",
      "107 ['dienthoaiiphonex256gbhangnhapkhau', 'dienthoaiiphone8plus64gbhangchinhhangfpt', 'dienthoaihtc10hangchinhhang', '']\n",
      "106 ['dienthoai', 'ipho', 'nex2', '56gbhangnh', 'apkhau', 'dienthoai', 'ipho', 'ne8plus6', '4gbha', 'n', 'gchinhhang', 'fpt', 'dienthoai', 'htc10h', 'angchinhhang', '']\n",
      "97 ['dienthoai', 'i', 'pho', 'nex256gbhang', 'n', 'h', 'apkhau', 'dienthoai', 'i', 'pho', 'ne8pl', 'us6', '4gbha', 'ngchinhhang', 'fpt', 'dienthoai', 'htc10ha', 'ngchinhhang']\n",
      "95 ['dienthoai', 'i', 'pho', 'nex25', '6gbhang', 'nh', 'apkh', 'au', 'dienthoai', 'i', 'pho', 'ne8plus64gbha', 'ngchinhhang', 'fpt', 'dienthoai', 'htc10ha', 'ngchinhhang']\n",
      "95 ['dienthoai', 'i', 'pho', 'nex25', '6gbhang', 'nh', 'apkh', 'au', 'dienthoai', 'i', 'pho', 'ne8plus64gbha', 'ngchinhhang', 'fpt', 'dienthoai', 'htc10ha', 'ngchinhhang']\n",
      "95 ['dienthoai', 'i', 'pho', 'nex25', '6gbhang', 'nh', 'apkh', 'au', 'dienthoai', 'i', 'pho', 'ne8plus64gbha', 'ngchinhhang', 'fpt', 'dienthoai', 'htc10ha', 'ngchinhhang']\n",
      "94 ['dienthoai', 'i', 'pho', 'nex256gbhangnh', 'apkh', 'au', 'dienthoai', 'i', 'pho', 'ne8plus64gbha', 'ngchinh', 'hang', 'fpt', 'dienthoai', 'htc10ha', 'ngchinh', 'hang']\n",
      "94 ['dienthoai', 'i', 'pho', 'nex256gbhangnh', 'apkh', 'au', 'dienthoai', 'i', 'pho', 'ne8plus64gbha', 'ngchinh', 'hang', 'fpt', 'dienthoai', 'htc10ha', 'ngchinh', 'hang']\n",
      "94 ['dienthoai', 'i', 'pho', 'nex256gbhangnh', 'apkh', 'au', 'dienthoai', 'i', 'pho', 'ne8plus64gbha', 'ngchinh', 'hang', 'fpt', 'dienthoai', 'htc10ha', 'ngchinh', 'hang']\n",
      "94 ['dienthoai', 'i', 'pho', 'nex256gbhangnh', 'apkh', 'au', 'dienthoai', 'i', 'pho', 'ne8plus64gbha', 'ngchinh', 'hang', 'fpt', 'dienthoai', 'htc10ha', 'ngchinh', 'hang']\n",
      "94 ['dienthoai', 'i', 'pho', 'nex256gbhangnh', 'apkh', 'au', 'dienthoai', 'i', 'pho', 'ne8plus64gbha', 'ngchinh', 'hang', 'fpt', 'dienthoai', 'htc10ha', 'ngchinh', 'hang']\n",
      "94 ['dienthoai', 'i', 'pho', 'nex256gbhangnh', 'apkh', 'au', 'dienthoai', 'i', 'pho', 'ne8plus64gbha', 'ngchinh', 'hang', 'fpt', 'dienthoai', 'htc10ha', 'ngchinh', 'hang']\n",
      "92 ['dienthoai', 'i', 'pho', 'nex256gbhangnh', 'apkhau', 'dienthoai', 'i', 'pho', 'ne8plus64gbha', 'ngchinh', 'hang', 'fpt', 'dienthoai', 'htc10ha', 'ngchinh', 'hang']\n",
      "91 ['dienthoai', 'i', 'pho', 'nex256gb', 'hang', 'n', 'hapkhau', 'dienthoai', 'i', 'pho', 'ne8plus64gbha', 'ngchinh', 'hang', 'fpt', 'dienthoai', 'htc10ha', 'ngchinh', 'hang']\n",
      "91 ['dienthoai', 'i', 'pho', 'nex256gb', 'hang', 'n', 'hapkhau', 'dienthoai', 'i', 'pho', 'ne8plus64gbha', 'ngchinh', 'hang', 'fpt', 'dienthoai', 'htc10ha', 'ngchinh', 'hang']\n",
      "90 ['dienthoai', 'ipho', 'nex256gb', 'hang', 'n', 'hapkhau', 'dienthoai', 'ipho', 'n', 'e8plus64gbha', 'ngchinh', 'hang', 'fpt', 'dienthoai', 'htc10h', 'a', 'ngchinh', 'hang']\n",
      "88 ['dienthoai', 'ipho', 'nex256gb', 'hang', 'n', 'hapkhau', 'dienthoai', 'ipho', 'n', 'e8plus64gbha', 'ngchinh', 'hang', 'fpt', 'dienthoai', 'htc10ha', 'ngchinh', 'hang']\n",
      "88 ['dienthoai', 'ipho', 'nex256gb', 'hang', 'n', 'hapkhau', 'dienthoai', 'ipho', 'n', 'e8plus64gbha', 'ngchinh', 'hang', 'fpt', 'dienthoai', 'htc10ha', 'ngchinh', 'hang']\n",
      "88 ['dienthoai', 'ipho', 'nex256gb', 'hang', 'n', 'hapkhau', 'dienthoai', 'ipho', 'n', 'e8plus64gbha', 'ngchinh', 'hang', 'fpt', 'dienthoai', 'htc10ha', 'ngchinh', 'hang']\n",
      "86 ['dienthoai', 'ipho', 'nex256gb', 'hang', 'nhapkhau', 'dienthoai', 'ipho', 'ne8plus64gbha', 'ngchinh', 'hang', 'fpt', 'dienthoai', 'htc10ha', 'ngchinh', 'hang']\n",
      "86 ['dienthoai', 'ipho', 'nex256gb', 'hang', 'nhapkhau', 'dienthoai', 'ipho', 'ne8plus64gbha', 'ngchinh', 'hang', 'fpt', 'dienthoai', 'htc10ha', 'ngchinh', 'hang']\n",
      "86 ['dienthoai', 'ipho', 'nex256gb', 'hang', 'nhapkhau', 'dienthoai', 'ipho', 'ne8plus64gbha', 'ngchinh', 'hang', 'fpt', 'dienthoai', 'htc10ha', 'ngchinh', 'hang']\n",
      "86 ['dienthoai', 'ipho', 'nex256gb', 'hang', 'nhapkhau', 'dienthoai', 'ipho', 'ne8plus64gbha', 'ngchinh', 'hang', 'fpt', 'dienthoai', 'htc10ha', 'ngchinh', 'hang']\n",
      "86 ['dienthoai', 'ipho', 'nex256gb', 'hang', 'nhapkhau', 'dienthoai', 'ipho', 'ne8plus64gbha', 'ngchinh', 'hang', 'fpt', 'dienthoai', 'htc10ha', 'ngchinh', 'hang']\n",
      "86 ['dienthoai', 'ipho', 'nex256gb', 'hang', 'nhapkhau', 'dienthoai', 'ipho', 'ne8plus64gbha', 'ngchinh', 'hang', 'fpt', 'dienthoai', 'htc10ha', 'ngchinh', 'hang']\n",
      "86 ['dienthoai', 'ipho', 'nex256gb', 'hang', 'nhapkhau', 'dienthoai', 'ipho', 'ne8plus64gbha', 'ngchinh', 'hang', 'fpt', 'dienthoai', 'htc10ha', 'ngchinh', 'hang']\n",
      "86 ['dienthoai', 'ipho', 'nex256gb', 'hang', 'nhapkhau', 'dienthoai', 'ipho', 'ne8plus64gbha', 'ngchinh', 'hang', 'fpt', 'dienthoai', 'htc10ha', 'ngchinh', 'hang']\n",
      "86 ['dienthoai', 'ipho', 'nex256gb', 'hang', 'nhapkhau', 'dienthoai', 'ipho', 'ne8plus64gbha', 'ngchinh', 'hang', 'fpt', 'dienthoai', 'htc10ha', 'ngchinh', 'hang']\n",
      "86 ['dienthoai', 'ipho', 'nex256gb', 'hang', 'nhapkhau', 'dienthoai', 'ipho', 'ne8plus64gbha', 'ngchinh', 'hang', 'fpt', 'dienthoai', 'htc10ha', 'ngchinh', 'hang']\n",
      "86 ['dienthoai', 'ipho', 'nex256gb', 'hang', 'nhapkhau', 'dienthoai', 'ipho', 'ne8plus64gbha', 'ngchinh', 'hang', 'fpt', 'dienthoai', 'htc10ha', 'ngchinh', 'hang']\n",
      "86 ['dienthoai', 'ipho', 'nex256gb', 'hang', 'nhapkhau', 'dienthoai', 'ipho', 'ne8plus64gbha', 'ngchinh', 'hang', 'fpt', 'dienthoai', 'htc10ha', 'ngchinh', 'hang']\n",
      "86 ['dienthoai', 'ipho', 'nex256gb', 'hang', 'nhapkhau', 'dienthoai', 'ipho', 'ne8plus64gbha', 'ngchinh', 'hang', 'fpt', 'dienthoai', 'htc10ha', 'ngchinh', 'hang']\n",
      "86 ['dienthoai', 'ipho', 'nex256gb', 'hang', 'nhapkhau', 'dienthoai', 'ipho', 'ne8plus64gbha', 'ngchinh', 'hang', 'fpt', 'dienthoai', 'htc10ha', 'ngchinh', 'hang']\n",
      "86 ['dienthoai', 'ipho', 'nex256gb', 'hang', 'nhapkhau', 'dienthoai', 'ipho', 'ne8plus64gbha', 'ngchinh', 'hang', 'fpt', 'dienthoai', 'htc10ha', 'ngchinh', 'hang']\n",
      "86 ['dienthoai', 'ipho', 'nex256gb', 'hang', 'nhapkhau', 'dienthoai', 'ipho', 'ne8plus64gbha', 'ngchinh', 'hang', 'fpt', 'dienthoai', 'htc10ha', 'ngchinh', 'hang']\n"
     ]
    },
    {
     "name": "stdout",
     "output_type": "stream",
     "text": [
      "86 ['dienthoai', 'ipho', 'nex256gb', 'hang', 'nhapkhau', 'dienthoai', 'ipho', 'ne8plus64gbha', 'ngchinh', 'hang', 'fpt', 'dienthoai', 'htc10ha', 'ngchinh', 'hang']\n",
      "86 ['dienthoai', 'ipho', 'nex256gb', 'hang', 'nhapkhau', 'dienthoai', 'ipho', 'ne8plus64gbha', 'ngchinh', 'hang', 'fpt', 'dienthoai', 'htc10ha', 'ngchinh', 'hang']\n",
      "86 ['dienthoai', 'ipho', 'nex256gb', 'hang', 'nhapkhau', 'dienthoai', 'ipho', 'ne8plus64gbha', 'ngchinh', 'hang', 'fpt', 'dienthoai', 'htc10ha', 'ngchinh', 'hang']\n",
      "86 ['dienthoai', 'ipho', 'nex256gb', 'hang', 'nhapkhau', 'dienthoai', 'ipho', 'ne8plus64gbha', 'ngchinh', 'hang', 'fpt', 'dienthoai', 'htc10ha', 'ngchinh', 'hang']\n",
      "86 ['dienthoai', 'ipho', 'nex256gb', 'hang', 'nhapkhau', 'dienthoai', 'ipho', 'ne8plus64gbha', 'ngchinh', 'hang', 'fpt', 'dienthoai', 'htc10ha', 'ngchinh', 'hang']\n",
      "86 ['dienthoai', 'ipho', 'nex256gb', 'hang', 'nhapkhau', 'dienthoai', 'ipho', 'ne8plus64gbha', 'ngchinh', 'hang', 'fpt', 'dienthoai', 'htc10ha', 'ngchinh', 'hang']\n",
      "86 ['dienthoai', 'ipho', 'nex256gb', 'hang', 'nhapkhau', 'dienthoai', 'ipho', 'ne8plus64gbha', 'ngchinh', 'hang', 'fpt', 'dienthoai', 'htc10ha', 'ngchinh', 'hang']\n",
      "86 ['dienthoai', 'ipho', 'nex256gb', 'hang', 'nhapkhau', 'dienthoai', 'ipho', 'ne8plus64gbha', 'ngchinh', 'hang', 'fpt', 'dienthoai', 'htc10ha', 'ngchinh', 'hang']\n",
      "86 ['dienthoai', 'ipho', 'nex256gb', 'hang', 'nhapkhau', 'dienthoai', 'ipho', 'ne8plus64gbha', 'ngchinh', 'hang', 'fpt', 'dienthoai', 'htc10ha', 'ngchinh', 'hang']\n",
      "86 ['dienthoai', 'ipho', 'nex256gb', 'hang', 'nhapkhau', 'dienthoai', 'ipho', 'ne8plus64gbha', 'ngchinh', 'hang', 'fpt', 'dienthoai', 'htc10ha', 'ngchinh', 'hang']\n",
      "86 ['dienthoai', 'ipho', 'nex256gb', 'hang', 'nhapkhau', 'dienthoai', 'ipho', 'ne8plus64gbha', 'ngchinh', 'hang', 'fpt', 'dienthoai', 'htc10ha', 'ngchinh', 'hang']\n",
      "86 ['dienthoai', 'ipho', 'nex256gb', 'hang', 'nhapkhau', 'dienthoai', 'ipho', 'ne8plus64gbha', 'ngchinh', 'hang', 'fpt', 'dienthoai', 'htc10ha', 'ngchinh', 'hang']\n",
      "86 ['dienthoai', 'ipho', 'nex256gb', 'hang', 'nhapkhau', 'dienthoai', 'ipho', 'ne8plus64gbha', 'ngchinh', 'hang', 'fpt', 'dienthoai', 'htc10ha', 'ngchinh', 'hang']\n",
      "86 ['dienthoai', 'ipho', 'nex256gb', 'hang', 'nhapkhau', 'dienthoai', 'ipho', 'ne8plus64gbha', 'ngchinh', 'hang', 'fpt', 'dienthoai', 'htc10ha', 'ngchinh', 'hang']\n",
      "86 ['dienthoai', 'ipho', 'nex256gb', 'hang', 'nhapkhau', 'dienthoai', 'ipho', 'ne8plus64gbha', 'ngchinh', 'hang', 'fpt', 'dienthoai', 'htc10ha', 'ngchinh', 'hang']\n",
      "86 ['dienthoai', 'ipho', 'nex256gb', 'hang', 'nhapkhau', 'dienthoai', 'ipho', 'ne8plus64gbha', 'ngchinh', 'hang', 'fpt', 'dienthoai', 'htc10ha', 'ngchinh', 'hang']\n",
      "86 ['dienthoai', 'ipho', 'nex256gb', 'hang', 'nhapkhau', 'dienthoai', 'ipho', 'ne8plus64gbha', 'ngchinh', 'hang', 'fpt', 'dienthoai', 'htc10ha', 'ngchinh', 'hang']\n",
      "86 ['dienthoai', 'ipho', 'nex256gb', 'hang', 'nhapkhau', 'dienthoai', 'ipho', 'ne8plus64gbha', 'ngchinh', 'hang', 'fpt', 'dienthoai', 'htc10ha', 'ngchinh', 'hang']\n"
     ]
    }
   ],
   "source": [
    "# Sample 1\n",
    "text = \"dienthoaiiphonex256gbhangnhapkhaudienthoaiiphone8plus64gbhangchinhhangfptdienthoaihtc10hangchinhhang\"\n",
    "seg1 = \"0000000000000000000000000000000010000000000000000000000000000000000000001000000000000000000000000001\"\n",
    "score, final_seg = anneal(text, seg1, 10000, 1.1)"
   ]
  },
  {
   "cell_type": "code",
   "execution_count": 7,
   "metadata": {},
   "outputs": [
    {
     "name": "stdout",
     "output_type": "stream",
     "text": [
      "82 ['dienthoai', 'iphone', 'x256gbhangnhapkhau', 'dienthoai', 'iphone', '8plus64gb', 'hangchinhhang', 'fpt', 'dienthoai', 'htc10', 'hangchinhhang', '']\n",
      "82 ['dienthoai', 'iphone', 'x256gbhangnhapkhau', 'dienthoai', 'iphone', '8plus64gb', 'hangchinhhang', 'fpt', 'dienthoai', 'htc10', 'hangchinhhang', '']\n",
      "82 ['dienthoai', 'iphone', 'x256gbhangnhapkhau', 'dienthoai', 'iphone', '8plus64gb', 'hangchinhhang', 'fpt', 'dienthoai', 'htc10', 'hangchinhhang', '']\n",
      "82 ['dienthoai', 'iphone', 'x256gbhangnhapkhau', 'dienthoai', 'iphone', '8plus64gb', 'hangchinhhang', 'fpt', 'dienthoai', 'htc10', 'hangchinhhang', '']\n",
      "82 ['dienthoai', 'iphone', 'x256gbhangnhapkhau', 'dienthoai', 'iphone', '8plus64gb', 'hangchinhhang', 'fpt', 'dienthoai', 'htc10', 'hangchinhhang', '']\n",
      "82 ['dienthoai', 'iphone', 'x256gbhangnhapkhau', 'dienthoai', 'iphone', '8plus64gb', 'hangchinhhang', 'fpt', 'dienthoai', 'htc10', 'hangchinhhang', '']\n",
      "82 ['dienthoai', 'iphone', 'x256gbhangnhapkhau', 'dienthoai', 'iphone', '8plus64gb', 'hangchinhhang', 'fpt', 'dienthoai', 'htc10', 'hangchinhhang', '']\n",
      "82 ['dienthoai', 'iphone', 'x256gbhangnhapkhau', 'dienthoai', 'iphone', '8plus64gb', 'hangchinhhang', 'fpt', 'dienthoai', 'htc10', 'hangchinhhang', '']\n",
      "82 ['dienthoai', 'iphone', 'x256gbhangnhapkhau', 'dienthoai', 'iphone', '8plus64gb', 'hangchinhhang', 'fpt', 'dienthoai', 'htc10', 'hangchinhhang', '']\n",
      "82 ['dienthoai', 'iphone', 'x256gbhangnhapkhau', 'dienthoai', 'iphone', '8plus64gb', 'hangchinhhang', 'fpt', 'dienthoai', 'htc10', 'hangchinhhang', '']\n",
      "82 ['dienthoai', 'iphone', 'x256gbhangnhapkhau', 'dienthoai', 'iphone', '8plus64gb', 'hangchinhhang', 'fpt', 'dienthoai', 'htc10', 'hangchinhhang', '']\n",
      "82 ['dienthoai', 'iphone', 'x256gbhangnhapkhau', 'dienthoai', 'iphone', '8plus64gb', 'hangchinhhang', 'fpt', 'dienthoai', 'htc10', 'hangchinhhang', '']\n",
      "82 ['dienthoai', 'iphone', 'x256gbhangnhapkhau', 'dienthoai', 'iphone', '8plus64gb', 'hangchinhhang', 'fpt', 'dienthoai', 'htc10', 'hangchinhhang', '']\n",
      "82 ['dienthoai', 'iphone', 'x256gbhangnhapkhau', 'dienthoai', 'iphone', '8plus64gb', 'hangchinhhang', 'fpt', 'dienthoai', 'htc10', 'hangchinhhang', '']\n",
      "82 ['dienthoai', 'iphone', 'x256gbhangnhapkhau', 'dienthoai', 'iphone', '8plus64gb', 'hangchinhhang', 'fpt', 'dienthoai', 'htc10', 'hangchinhhang', '']\n",
      "82 ['dienthoai', 'iphone', 'x256gbhangnhapkhau', 'dienthoai', 'iphone', '8plus64gb', 'hangchinhhang', 'fpt', 'dienthoai', 'htc10', 'hangchinhhang', '']\n",
      "82 ['dienthoai', 'iphone', 'x256gbhangnhapkhau', 'dienthoai', 'iphone', '8plus64gb', 'hangchinhhang', 'fpt', 'dienthoai', 'htc10', 'hangchinhhang', '']\n",
      "82 ['dienthoai', 'iphone', 'x256gbhangnhapkhau', 'dienthoai', 'iphone', '8plus64gb', 'hangchinhhang', 'fpt', 'dienthoai', 'htc10', 'hangchinhhang', '']\n",
      "82 ['dienthoai', 'iphone', 'x256gbhangnhapkhau', 'dienthoai', 'iphone', '8plus64gb', 'hangchinhhang', 'fpt', 'dienthoai', 'htc10', 'hangchinhhang', '']\n",
      "82 ['dienthoai', 'iphone', 'x256gbhangnhapkhau', 'dienthoai', 'iphone', '8plus64gb', 'hangchinhhang', 'fpt', 'dienthoai', 'htc10', 'hangchinhhang', '']\n",
      "82 ['dienthoai', 'iphone', 'x256gbhangnhapkhau', 'dienthoai', 'iphone', '8plus64gb', 'hangchinhhang', 'fpt', 'dienthoai', 'htc10', 'hangchinhhang', '']\n",
      "82 ['dienthoai', 'iphone', 'x256gbhangnhapkhau', 'dienthoai', 'iphone', '8plus64gb', 'hangchinhhang', 'fpt', 'dienthoai', 'htc10', 'hangchinhhang', '']\n",
      "82 ['dienthoai', 'iphone', 'x256gbhangnhapkhau', 'dienthoai', 'iphone', '8plus64gb', 'hangchinhhang', 'fpt', 'dienthoai', 'htc10', 'hangchinhhang', '']\n",
      "82 ['dienthoai', 'iphone', 'x256gbhangnhapkhau', 'dienthoai', 'iphone', '8plus64gb', 'hangchinhhang', 'fpt', 'dienthoai', 'htc10', 'hangchinhhang', '']\n",
      "82 ['dienthoai', 'iphone', 'x256gbhangnhapkhau', 'dienthoai', 'iphone', '8plus64gb', 'hangchinhhang', 'fpt', 'dienthoai', 'htc10', 'hangchinhhang', '']\n",
      "82 ['dienthoai', 'iphone', 'x256gbhangnhapkhau', 'dienthoai', 'iphone', '8plus64gb', 'hangchinhhang', 'fpt', 'dienthoai', 'htc10', 'hangchinhhang', '']\n",
      "82 ['dienthoai', 'iphone', 'x256gbhangnhapkhau', 'dienthoai', 'iphone', '8plus64gb', 'hangchinhhang', 'fpt', 'dienthoai', 'htc10', 'hangchinhhang', '']\n",
      "82 ['dienthoai', 'iphone', 'x256gbhangnhapkhau', 'dienthoai', 'iphone', '8plus64gb', 'hangchinhhang', 'fpt', 'dienthoai', 'htc10', 'hangchinhhang', '']\n",
      "82 ['dienthoai', 'iphone', 'x256gbhangnhapkhau', 'dienthoai', 'iphone', '8plus64gb', 'hangchinhhang', 'fpt', 'dienthoai', 'htc10', 'hangchinhhang', '']\n",
      "82 ['dienthoai', 'iphone', 'x256gbhangnhapkhau', 'dienthoai', 'iphone', '8plus64gb', 'hangchinhhang', 'fpt', 'dienthoai', 'htc10', 'hangchinhhang', '']\n",
      "82 ['dienthoai', 'iphone', 'x256gbhangnhapkhau', 'dienthoai', 'iphone', '8plus64gb', 'hangchinhhang', 'fpt', 'dienthoai', 'htc10', 'hangchinhhang', '']\n",
      "82 ['dienthoai', 'iphone', 'x256gbhangnhapkhau', 'dienthoai', 'iphone', '8plus64gb', 'hangchinhhang', 'fpt', 'dienthoai', 'htc10', 'hangchinhhang', '']\n",
      "82 ['dienthoai', 'iphone', 'x256gbhangnhapkhau', 'dienthoai', 'iphone', '8plus64gb', 'hangchinhhang', 'fpt', 'dienthoai', 'htc10', 'hangchinhhang', '']\n",
      "82 ['dienthoai', 'iphone', 'x256gbhangnhapkhau', 'dienthoai', 'iphone', '8plus64gb', 'hangchinhhang', 'fpt', 'dienthoai', 'htc10', 'hangchinhhang', '']\n",
      "82 ['dienthoai', 'iphone', 'x256gbhangnhapkhau', 'dienthoai', 'iphone', '8plus64gb', 'hangchinhhang', 'fpt', 'dienthoai', 'htc10', 'hangchinhhang', '']\n",
      "82 ['dienthoai', 'iphone', 'x256gbhangnhapkhau', 'dienthoai', 'iphone', '8plus64gb', 'hangchinhhang', 'fpt', 'dienthoai', 'htc10', 'hangchinhhang', '']\n",
      "80 ['dienthoai', 'iphone', 'x256gbhangnhapkhau', 'dienthoai', 'iphone', '8plus64gb', 'hangchinhhang', 'fpt', 'dienthoai', 'htc10', 'hangchinhhang']\n",
      "80 ['dienthoai', 'iphone', 'x256gbhangnhapkhau', 'dienthoai', 'iphone', '8plus64gb', 'hangchinhhang', 'fpt', 'dienthoai', 'htc10', 'hangchinhhang']\n",
      "80 ['dienthoai', 'iphone', 'x256gbhangnhapkhau', 'dienthoai', 'iphone', '8plus64gb', 'hangchinhhang', 'fpt', 'dienthoai', 'htc10', 'hangchinhhang']\n",
      "80 ['dienthoai', 'iphone', 'x256gbhangnhapkhau', 'dienthoai', 'iphone', '8plus64gb', 'hangchinhhang', 'fpt', 'dienthoai', 'htc10', 'hangchinhhang']\n",
      "80 ['dienthoai', 'iphone', 'x256gbhangnhapkhau', 'dienthoai', 'iphone', '8plus64gb', 'hangchinhhang', 'fpt', 'dienthoai', 'htc10', 'hangchinhhang']\n",
      "80 ['dienthoai', 'iphone', 'x256gbhangnhapkhau', 'dienthoai', 'iphone', '8plus64gb', 'hangchinhhang', 'fpt', 'dienthoai', 'htc10', 'hangchinhhang']\n",
      "80 ['dienthoai', 'iphone', 'x256gbhangnhapkhau', 'dienthoai', 'iphone', '8plus64gb', 'hangchinhhang', 'fpt', 'dienthoai', 'htc10', 'hangchinhhang']\n",
      "80 ['dienthoai', 'iphone', 'x256gbhangnhapkhau', 'dienthoai', 'iphone', '8plus64gb', 'hangchinhhang', 'fpt', 'dienthoai', 'htc10', 'hangchinhhang']\n",
      "80 ['dienthoai', 'iphone', 'x256gbhangnhapkhau', 'dienthoai', 'iphone', '8plus64gb', 'hangchinhhang', 'fpt', 'dienthoai', 'htc10', 'hangchinhhang']\n",
      "80 ['dienthoai', 'iphone', 'x256gbhangnhapkhau', 'dienthoai', 'iphone', '8plus64gb', 'hangchinhhang', 'fpt', 'dienthoai', 'htc10', 'hangchinhhang']\n",
      "80 ['dienthoai', 'iphone', 'x256gbhangnhapkhau', 'dienthoai', 'iphone', '8plus64gb', 'hangchinhhang', 'fpt', 'dienthoai', 'htc10', 'hangchinhhang']\n",
      "80 ['dienthoai', 'iphone', 'x256gbhangnhapkhau', 'dienthoai', 'iphone', '8plus64gb', 'hangchinhhang', 'fpt', 'dienthoai', 'htc10', 'hangchinhhang']\n",
      "80 ['dienthoai', 'iphone', 'x256gbhangnhapkhau', 'dienthoai', 'iphone', '8plus64gb', 'hangchinhhang', 'fpt', 'dienthoai', 'htc10', 'hangchinhhang']\n",
      "80 ['dienthoai', 'iphone', 'x256gbhangnhapkhau', 'dienthoai', 'iphone', '8plus64gb', 'hangchinhhang', 'fpt', 'dienthoai', 'htc10', 'hangchinhhang']\n",
      "80 ['dienthoai', 'iphone', 'x256gbhangnhapkhau', 'dienthoai', 'iphone', '8plus64gb', 'hangchinhhang', 'fpt', 'dienthoai', 'htc10', 'hangchinhhang']\n",
      "80 ['dienthoai', 'iphone', 'x256gbhangnhapkhau', 'dienthoai', 'iphone', '8plus64gb', 'hangchinhhang', 'fpt', 'dienthoai', 'htc10', 'hangchinhhang']\n",
      "80 ['dienthoai', 'iphone', 'x256gbhangnhapkhau', 'dienthoai', 'iphone', '8plus64gb', 'hangchinhhang', 'fpt', 'dienthoai', 'htc10', 'hangchinhhang']\n",
      "80 ['dienthoai', 'iphone', 'x256gbhangnhapkhau', 'dienthoai', 'iphone', '8plus64gb', 'hangchinhhang', 'fpt', 'dienthoai', 'htc10', 'hangchinhhang']\n",
      "80 ['dienthoai', 'iphone', 'x256gbhangnhapkhau', 'dienthoai', 'iphone', '8plus64gb', 'hangchinhhang', 'fpt', 'dienthoai', 'htc10', 'hangchinhhang']\n"
     ]
    },
    {
     "name": "stdout",
     "output_type": "stream",
     "text": [
      "80 ['dienthoai', 'iphone', 'x256gbhangnhapkhau', 'dienthoai', 'iphone', '8plus64gb', 'hangchinhhang', 'fpt', 'dienthoai', 'htc10', 'hangchinhhang']\n",
      "80 ['dienthoai', 'iphone', 'x256gbhangnhapkhau', 'dienthoai', 'iphone', '8plus64gb', 'hangchinhhang', 'fpt', 'dienthoai', 'htc10', 'hangchinhhang']\n",
      "80 ['dienthoai', 'iphone', 'x256gbhangnhapkhau', 'dienthoai', 'iphone', '8plus64gb', 'hangchinhhang', 'fpt', 'dienthoai', 'htc10', 'hangchinhhang']\n",
      "80 ['dienthoai', 'iphone', 'x256gbhangnhapkhau', 'dienthoai', 'iphone', '8plus64gb', 'hangchinhhang', 'fpt', 'dienthoai', 'htc10', 'hangchinhhang']\n",
      "80 ['dienthoai', 'iphone', 'x256gbhangnhapkhau', 'dienthoai', 'iphone', '8plus64gb', 'hangchinhhang', 'fpt', 'dienthoai', 'htc10', 'hangchinhhang']\n",
      "80 ['dienthoai', 'iphone', 'x256gbhangnhapkhau', 'dienthoai', 'iphone', '8plus64gb', 'hangchinhhang', 'fpt', 'dienthoai', 'htc10', 'hangchinhhang']\n",
      "80 ['dienthoai', 'iphone', 'x256gbhangnhapkhau', 'dienthoai', 'iphone', '8plus64gb', 'hangchinhhang', 'fpt', 'dienthoai', 'htc10', 'hangchinhhang']\n",
      "80 ['dienthoai', 'iphone', 'x256gbhangnhapkhau', 'dienthoai', 'iphone', '8plus64gb', 'hangchinhhang', 'fpt', 'dienthoai', 'htc10', 'hangchinhhang']\n",
      "80 ['dienthoai', 'iphone', 'x256gbhangnhapkhau', 'dienthoai', 'iphone', '8plus64gb', 'hangchinhhang', 'fpt', 'dienthoai', 'htc10', 'hangchinhhang']\n",
      "80 ['dienthoai', 'iphone', 'x256gbhangnhapkhau', 'dienthoai', 'iphone', '8plus64gb', 'hangchinhhang', 'fpt', 'dienthoai', 'htc10', 'hangchinhhang']\n",
      "80 ['dienthoai', 'iphone', 'x256gbhangnhapkhau', 'dienthoai', 'iphone', '8plus64gb', 'hangchinhhang', 'fpt', 'dienthoai', 'htc10', 'hangchinhhang']\n",
      "80 ['dienthoai', 'iphone', 'x256gbhangnhapkhau', 'dienthoai', 'iphone', '8plus64gb', 'hangchinhhang', 'fpt', 'dienthoai', 'htc10', 'hangchinhhang']\n",
      "80 ['dienthoai', 'iphone', 'x256gbhangnhapkhau', 'dienthoai', 'iphone', '8plus64gb', 'hangchinhhang', 'fpt', 'dienthoai', 'htc10', 'hangchinhhang']\n",
      "80 ['dienthoai', 'iphone', 'x256gbhangnhapkhau', 'dienthoai', 'iphone', '8plus64gb', 'hangchinhhang', 'fpt', 'dienthoai', 'htc10', 'hangchinhhang']\n",
      "80 ['dienthoai', 'iphone', 'x256gbhangnhapkhau', 'dienthoai', 'iphone', '8plus64gb', 'hangchinhhang', 'fpt', 'dienthoai', 'htc10', 'hangchinhhang']\n",
      "80 ['dienthoai', 'iphone', 'x256gbhangnhapkhau', 'dienthoai', 'iphone', '8plus64gb', 'hangchinhhang', 'fpt', 'dienthoai', 'htc10', 'hangchinhhang']\n",
      "80 ['dienthoai', 'iphone', 'x256gbhangnhapkhau', 'dienthoai', 'iphone', '8plus64gb', 'hangchinhhang', 'fpt', 'dienthoai', 'htc10', 'hangchinhhang']\n",
      "80 ['dienthoai', 'iphone', 'x256gbhangnhapkhau', 'dienthoai', 'iphone', '8plus64gb', 'hangchinhhang', 'fpt', 'dienthoai', 'htc10', 'hangchinhhang']\n"
     ]
    }
   ],
   "source": [
    "#Sample 2\n",
    "text = \"dienthoaiiphonex256gbhangnhapkhaudienthoaiiphone8plus64gbhangchinhhangfptdienthoaihtc10hangchinhhang\"\n",
    "seg1 = \"0000000010000010000000000000000010000000010000010000000010000000000001001000000001000010000000000001\"\n",
    "score, final_seg = anneal(text, seg1, 10000, 1.1)"
   ]
  },
  {
   "cell_type": "code",
   "execution_count": null,
   "metadata": {
    "collapsed": true
   },
   "outputs": [],
   "source": [
    "# Tiki Product\n",
    "text = ''.join(names)\n",
    "seg = default_segmentation(names)\n",
    "score, final_seg = anneal(text, seg, 1000, 1.1)"
   ]
  }
 ],
 "metadata": {
  "kernelspec": {
   "display_name": "Python 2",
   "language": "python",
   "name": "python2"
  },
  "language_info": {
   "codemirror_mode": {
    "name": "ipython",
    "version": 2
   },
   "file_extension": ".py",
   "mimetype": "text/x-python",
   "name": "python",
   "nbconvert_exporter": "python",
   "pygments_lexer": "ipython2",
   "version": "2.7.13"
  }
 },
 "nbformat": 4,
 "nbformat_minor": 2
}
