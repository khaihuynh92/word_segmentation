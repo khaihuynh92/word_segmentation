{
 "cells": [
  {
   "cell_type": "code",
   "execution_count": 9,
   "metadata": {
    "collapsed": true
   },
   "outputs": [],
   "source": [
    "# -*- coding: utf-8 -*-\n",
    "import io\n",
    "from random import randint"
   ]
  },
  {
   "cell_type": "code",
   "execution_count": 11,
   "metadata": {
    "collapsed": true
   },
   "outputs": [],
   "source": [
    "def segment(text, segs):\n",
    "    words = []\n",
    "    last = 0\n",
    "    for i in range(len(segs)):\n",
    "        if segs[i] == '1':\n",
    "            words.append(text[last:i+1])\n",
    "            last = i+1\n",
    "    words.append(text[last:]) \n",
    "    return words\n",
    "\n",
    "\n",
    "def evaluate(text, segs):\n",
    "\n",
    "    words = segment(text, segs)\n",
    "    text_size = len(words)\n",
    "    lexicon_size = len(' '.join(list(set(words)))) \n",
    "    return text_size + lexicon_size\n",
    "\n",
    "\n",
    "\n",
    "def flip(segs, pos):\n",
    "    return segs[:pos] + str(1-int(segs[pos])) + segs[pos+1:]\n",
    "\n",
    "def flip_n(segs, n): \n",
    "    for i in range(n):\n",
    "        segs = flip(segs, randint(0,len(segs)-1)) \n",
    "    return segs\n",
    "\n",
    "def anneal(text, segs, iterations, rate): \n",
    "    temperature = float(len(segs))\n",
    "    while temperature > 0.1:\n",
    "        best_segs, best = segs, evaluate(text, segs) \n",
    "        \n",
    "        for i in range(iterations):\n",
    "            guess = flip_n(segs, int(round(temperature))) \n",
    "            score = evaluate(text, guess)\n",
    "            if score < best:\n",
    "                best, best_segs = score, guess \n",
    "            \n",
    "        score, segs = best, best_segs\n",
    "        temperature = temperature / rate\n",
    "        print evaluate(text, segs), segment(text, segs)\n",
    "    return score, segs"
   ]
  },
  {
   "cell_type": "code",
   "execution_count": 48,
   "metadata": {},
   "outputs": [],
   "source": [
    "# Normalize funcs\n",
    "s1 = u'ÀÁÂÃÈÉÊÌÍÒÓÔÕÙÚÝàáâãèéêìíòóôõùúýĂăĐđĨĩŨũƠơƯưẠạẢảẤấẦầẨẩẪẫẬậẮắẰằẲẳẴẵẶặẸẹẺẻẼẽẾếỀềỂểỄễỆệỈỉỊịỌọỎỏỐốỒồỔổỖỗỘộỚớỜờỞởỠỡỢợỤụỦủỨứỪừỬửỮữỰựỲỳỴỵỶỷỸỹ'\n",
    "s0 = u'AAAAEEEIIOOOOUUYaaaaeeeiioooouuyAaDdIiUuOoUuAaAaAaAaAaAaAaAaAaAaAaAaEeEeEeEeEeEeEeEeIiIiOoOoOoOoOoOoOoOoOoOoOoOoUuUuUuUuUuUuUuYyYyYyYy'\n",
    "\n",
    "\n",
    "def normalize(input_str):\n",
    "    s = ''\n",
    "    for c in input_str:\n",
    "        if c in s1:\n",
    "            s += s0[s1.index(c)]\n",
    "        else:\n",
    "            s += c\n",
    "    s = s.replace(' ', '').lower().strip()\n",
    "    \n",
    "    return s\n",
    "    "
   ]
  },
  {
   "cell_type": "code",
   "execution_count": 51,
   "metadata": {},
   "outputs": [],
   "source": [
    "# Load products name from file\n",
    "with io.open(\"terms.txt\", mode=\"r\", encoding=\"utf-8\") as f:\n",
    "    names = f.readlines()\n",
    "# Normalize\n",
    "names = map(normalize, names)"
   ]
  },
  {
   "cell_type": "code",
   "execution_count": 83,
   "metadata": {},
   "outputs": [],
   "source": [
    "# Default segnment by product name\n",
    "def str_to_bit(str):\n",
    "    l = len(str)\n",
    "    pre  = ['0']* (l - 1)\n",
    "    suff = '1'\n",
    "    pre.append(suff)\n",
    "\n",
    "    text = ''.join(pre)\n",
    "    return text\n",
    "\n",
    "def default_segmentation(terms):\n",
    "    bit_segs = map(str_to_bit, terms)\n",
    "    end = bit_segs[len(bit_segs) - 1]\n",
    "    # slice the ending bit\n",
    "    end = end[:-1]\n",
    "    bit_segs[len(bit_segs) - 1] = end\n",
    "    return ''.join(bit_segs)\n",
    "    "
   ]
  },
  {
   "cell_type": "code",
   "execution_count": 3,
   "metadata": {},
   "outputs": [
    {
     "name": "stdout",
     "output_type": "stream",
     "text": [
      "107 ['dienthoaiiphonex256gbhangnhapkhau', 'dienthoaiiphone8plus64gbhangchinhhangfpt', 'dienthoaihtc10hangchinhhang', '']\n",
      "107 ['dienthoaiiphonex256gbhangnhapkhau', 'dienthoaiiphone8plus64gbhangchinhhangfpt', 'dienthoaihtc10hangchinhhang', '']\n",
      "107 ['dienthoaiiphonex256gbhangnhapkhau', 'dienthoaiiphone8plus64gbhangchinhhangfpt', 'dienthoaihtc10hangchinhhang', '']\n",
      "107 ['dienthoaiiphonex256gbhangnhapkhau', 'dienthoaiiphone8plus64gbhangchinhhangfpt', 'dienthoaihtc10hangchinhhang', '']\n",
      "107 ['dienthoaiiphonex256gbhangnhapkhau', 'dienthoaiiphone8plus64gbhangchinhhangfpt', 'dienthoaihtc10hangchinhhang', '']\n",
      "107 ['dienthoaiiphonex256gbhangnhapkhau', 'dienthoaiiphone8plus64gbhangchinhhangfpt', 'dienthoaihtc10hangchinhhang', '']\n",
      "107 ['dienthoaiiphonex256gbhangnhapkhau', 'dienthoaiiphone8plus64gbhangchinhhangfpt', 'dienthoaihtc10hangchinhhang', '']\n",
      "107 ['dienthoaiiphonex256gbhangnhapkhau', 'dienthoaiiphone8plus64gbhangchinhhangfpt', 'dienthoaihtc10hangchinhhang', '']\n",
      "107 ['dienthoaiiphonex256gbhangnhapkhau', 'dienthoaiiphone8plus64gbhangchinhhangfpt', 'dienthoaihtc10hangchinhhang', '']\n",
      "107 ['dienthoaiiphonex256gbhangnhapkhau', 'dienthoaiiphone8plus64gbhangchinhhangfpt', 'dienthoaihtc10hangchinhhang', '']\n",
      "107 ['dienthoaiiphonex256gbhangnhapkhau', 'dienthoaiiphone8plus64gbhangchinhhangfpt', 'dienthoaihtc10hangchinhhang', '']\n",
      "107 ['dienthoaiiphonex256gbhangnhapkhau', 'dienthoaiiphone8plus64gbhangchinhhangfpt', 'dienthoaihtc10hangchinhhang', '']\n",
      "107 ['dienthoaiiphonex256gbhangnhapkhau', 'dienthoaiiphone8plus64gbhangchinhhangfpt', 'dienthoaihtc10hangchinhhang', '']\n",
      "107 ['dienthoaiiphonex256gbhangnhapkhau', 'dienthoaiiphone8plus64gbhangchinhhangfpt', 'dienthoaihtc10hangchinhhang', '']\n",
      "107 ['dienthoaiiphonex256gbhangnhapkhau', 'dienthoaiiphone8plus64gbhangchinhhangfpt', 'dienthoaihtc10hangchinhhang', '']\n",
      "107 ['dienthoaiiphonex256gbhangnhapkhau', 'dienthoaiiphone8plus64gbhangchinhhangfpt', 'dienthoaihtc10hangchinhhang', '']\n",
      "107 ['dienthoaiiphonex256gbhangnhapkhau', 'dienthoaiiphone8plus64gbhangchinhhangfpt', 'dienthoaihtc10hangchinhhang', '']\n",
      "107 ['dienthoaiiphonex256gbhangnhapkhau', 'dienthoaiiphone8plus64gbhangchinhhangfpt', 'dienthoaihtc10hangchinhhang', '']\n",
      "107 ['dienthoaiiphonex256gbhangnhapkhau', 'dienthoaiiphone8plus64gbhangchinhhangfpt', 'dienthoaihtc10hangchinhhang', '']\n",
      "105 ['dienthoaiiphon', 'ex256gbha', 'ngnhapkhau', 'dienthoa', 'iiphone', '8plus64gbh', 'angchinhhang', 'fpt', 'dienthoa', 'ih', 'tc1', '0h', 'angchinhhang', '']\n",
      "105 ['dienthoaiiphon', 'ex256gbha', 'ngnhapkhau', 'dienthoa', 'iiphone', '8plus64gbh', 'angchinhhang', 'fpt', 'dienthoa', 'ih', 'tc1', '0h', 'angchinhhang', '']\n",
      "105 ['dienthoaiiphon', 'ex256gbha', 'ngnhapkhau', 'dienthoa', 'iiphone', '8plus64gbh', 'angchinhhang', 'fpt', 'dienthoa', 'ih', 'tc1', '0h', 'angchinhhang', '']\n",
      "102 ['dienthoa', 'iiphon', 'ex2', '56gbha', 'n', 'gnhapkhaudienthoa', 'iiphon', 'e8plus64gbh', 'angchinhhang', 'fpt', 'dienthoa', 'ih', 'tc', '1', '0h', 'angchinhhang']\n",
      "102 ['dienthoa', 'iiphon', 'ex2', '56gbha', 'n', 'gnhapkhaudienthoa', 'iiphon', 'e8plus64gbh', 'angchinhhang', 'fpt', 'dienthoa', 'ih', 'tc', '1', '0h', 'angchinhhang']\n",
      "100 ['dienthoa', 'iiph', 'on', 'ex256gbha', 'n', 'gnhapkhau', 'dienthoa', 'iiph', 'on', 'e8plu', 's64g', 'bh', 'angchinhhang', 'fpt', 'dienthoa', 'ih', 'tc', '1', '0h', 'angchinhhang']\n",
      "100 ['dienthoa', 'iiph', 'on', 'ex256gbha', 'n', 'gnhapkhau', 'dienthoa', 'iiph', 'on', 'e8plu', 's64g', 'bh', 'angchinhhang', 'fpt', 'dienthoa', 'ih', 'tc', '1', '0h', 'angchinhhang']\n",
      "99 ['dienthoa', 'iiph', 'o', 'n', 'ex256gbh', 'angnhapkhau', 'dienthoa', 'iiph', 'one8plu', 's64g', 'bh', 'angchinhhang', 'fpt', 'dienthoa', 'ih', 'tc10h', 'angchinhhang', '']\n",
      "98 ['dienthoa', 'iiph', 'onex256gbh', 'angnhapkhau', 'dienthoa', 'iiph', 'one', '8plus64g', 'bh', 'ang', 'chinhhang', 'fpt', 'dienthoa', 'ih', 'tc10h', 'ang', 'chinhhang', '']\n",
      "93 ['dienthoa', 'iiphone', 'x256gbh', 'angnhapkhau', 'dienthoa', 'iiphone', '8plus64', 'gbh', 'ang', 'chinhhang', 'fpt', 'dienthoa', 'ih', 'tc10h', 'ang', 'chinhhang', '']\n",
      "93 ['dienthoa', 'iiphone', 'x256gbh', 'angnhapkhau', 'dienthoa', 'iiphone', '8plus64', 'gbh', 'ang', 'chinhhang', 'fpt', 'dienthoa', 'ih', 'tc10h', 'ang', 'chinhhang', '']\n",
      "93 ['dienthoa', 'iiphone', 'x256gbh', 'angnhapkhau', 'dienthoa', 'iiphone', '8plus64', 'gbh', 'ang', 'chinhhang', 'fpt', 'dienthoa', 'ih', 'tc10h', 'ang', 'chinhhang', '']\n",
      "91 ['dienthoa', 'iiphone', 'x256gbh', 'ang', 'nhapkhau', 'dienthoa', 'iiphone', '8plus64', 'gbh', 'ang', 'chinhhang', 'fpt', 'dienthoa', 'ih', 'tc10h', 'ang', 'chinhhang', '']\n",
      "89 ['dienthoa', 'iiphone', 'x256gbhang', 'nhapkhau', 'dienthoa', 'iiphone', '8plus64gbh', 'ang', 'chinhhang', 'fpt', 'dienthoa', 'ihtc10h', 'ang', 'chinhhang', '']\n",
      "89 ['dienthoa', 'iiphone', 'x256gbhang', 'nhapkhau', 'dienthoa', 'iiphone', '8plus64gbh', 'ang', 'chinhhang', 'fpt', 'dienthoa', 'ihtc10h', 'ang', 'chinhhang', '']\n",
      "88 ['dienthoa', 'iiphone', 'x256gbhangnhapkhau', 'dienthoa', 'iiphone', '8plus64gbh', 'an', 'g', 'chinhhang', 'fpt', 'dienthoa', 'ihtc10h', 'an', 'g', 'chinhhang']\n",
      "88 ['dienthoa', 'iiphone', 'x256gbhangnhapkhau', 'dienthoa', 'iiphone', '8plus64gbh', 'an', 'g', 'chinhhang', 'fpt', 'dienthoa', 'ihtc10h', 'an', 'g', 'chinhhang']\n",
      "87 ['dienthoa', 'iiphone', 'x256gbhangnh', 'apkhau', 'dienthoa', 'iiphone', '8plus64gbh', 'an', 'gchinhhang', 'fpt', 'dienthoa', 'ihtc10h', 'an', 'gchinhhang']\n",
      "85 ['dienthoa', 'iiphone', 'x256gbhangnhapkhau', 'dienthoa', 'iiphone', '8plus64gbh', 'an', 'gchinhhang', 'fpt', 'dienthoa', 'ihtc10h', 'an', 'gchinhhang']\n",
      "84 ['dienthoa', 'iiphone', 'x256gbhangnhapkhau', 'dienthoa', 'iiphone', '8plus64gbh', 'angchinhhang', 'fpt', 'dienthoa', 'ih', 'tc10h', 'angchinhhang']\n",
      "84 ['dienthoa', 'iiphone', 'x256gbhangnhapkhau', 'dienthoa', 'iiphone', '8plus64gbh', 'angchinhhang', 'fpt', 'dienthoa', 'ih', 'tc10h', 'angchinhhang']\n",
      "84 ['dienthoa', 'iiphone', 'x256gbhangnhapkhau', 'dienthoa', 'iiphone', '8plus64gbh', 'angchinhhang', 'fpt', 'dienthoa', 'ih', 'tc10h', 'angchinhhang']\n",
      "84 ['dienthoa', 'iiphone', 'x256gbhangnhapkhau', 'dienthoa', 'iiphone', '8plus64gbh', 'angchinhhang', 'fpt', 'dienthoa', 'ih', 'tc10h', 'angchinhhang']\n",
      "84 ['dienthoa', 'iiphone', 'x256gbhangnhapkhau', 'dienthoa', 'iiphone', '8plus64gbh', 'angchinhhang', 'fpt', 'dienthoa', 'ih', 'tc10h', 'angchinhhang']\n",
      "84 ['dienthoa', 'iiphone', 'x256gbhangnhapkhau', 'dienthoa', 'iiphone', '8plus64gbh', 'angchinhhang', 'fpt', 'dienthoa', 'ih', 'tc10h', 'angchinhhang']\n",
      "84 ['dienthoa', 'iiphone', 'x256gbhangnhapkhau', 'dienthoa', 'iiphone', '8plus64gbh', 'angchinhhang', 'fpt', 'dienthoa', 'ih', 'tc10h', 'angchinhhang']\n",
      "82 ['dienthoa', 'iiphone', 'x256gbhangnhapkhau', 'dienthoa', 'iiphone', '8plus64gbh', 'angchinhhang', 'fpt', 'dienthoa', 'ihtc10h', 'angchinhhang']\n",
      "82 ['dienthoa', 'iiphone', 'x256gbhangnhapkhau', 'dienthoa', 'iiphone', '8plus64gbh', 'angchinhhang', 'fpt', 'dienthoa', 'ihtc10h', 'angchinhhang']\n",
      "82 ['dienthoa', 'iiphone', 'x256gbhangnhapkhau', 'dienthoa', 'iiphone', '8plus64gbh', 'angchinhhang', 'fpt', 'dienthoa', 'ihtc10h', 'angchinhhang']\n",
      "82 ['dienthoa', 'iiphone', 'x256gbhangnhapkhau', 'dienthoa', 'iiphone', '8plus64gbh', 'angchinhhang', 'fpt', 'dienthoa', 'ihtc10h', 'angchinhhang']\n",
      "82 ['dienthoa', 'iiphone', 'x256gbhangnhapkhau', 'dienthoa', 'iiphone', '8plus64gbh', 'angchinhhang', 'fpt', 'dienthoa', 'ihtc10h', 'angchinhhang']\n",
      "82 ['dienthoa', 'iiphone', 'x256gbhangnhapkhau', 'dienthoa', 'iiphone', '8plus64gbh', 'angchinhhang', 'fpt', 'dienthoa', 'ihtc10h', 'angchinhhang']\n",
      "82 ['dienthoa', 'iiphone', 'x256gbhangnhapkhau', 'dienthoa', 'iiphone', '8plus64gbh', 'angchinhhang', 'fpt', 'dienthoa', 'ihtc10h', 'angchinhhang']\n",
      "82 ['dienthoa', 'iiphone', 'x256gbhangnhapkhau', 'dienthoa', 'iiphone', '8plus64gbh', 'angchinhhang', 'fpt', 'dienthoa', 'ihtc10h', 'angchinhhang']\n",
      "82 ['dienthoa', 'iiphone', 'x256gbhangnhapkhau', 'dienthoa', 'iiphone', '8plus64gbh', 'angchinhhang', 'fpt', 'dienthoa', 'ihtc10h', 'angchinhhang']\n",
      "82 ['dienthoa', 'iiphone', 'x256gbhangnhapkhau', 'dienthoa', 'iiphone', '8plus64gbh', 'angchinhhang', 'fpt', 'dienthoa', 'ihtc10h', 'angchinhhang']\n",
      "82 ['dienthoa', 'iiphone', 'x256gbhangnhapkhau', 'dienthoa', 'iiphone', '8plus64gbh', 'angchinhhang', 'fpt', 'dienthoa', 'ihtc10h', 'angchinhhang']\n",
      "82 ['dienthoa', 'iiphone', 'x256gbhangnhapkhau', 'dienthoa', 'iiphone', '8plus64gbh', 'angchinhhang', 'fpt', 'dienthoa', 'ihtc10h', 'angchinhhang']\n"
     ]
    },
    {
     "name": "stdout",
     "output_type": "stream",
     "text": [
      "82 ['dienthoa', 'iiphone', 'x256gbhangnhapkhau', 'dienthoa', 'iiphone', '8plus64gbh', 'angchinhhang', 'fpt', 'dienthoa', 'ihtc10h', 'angchinhhang']\n",
      "82 ['dienthoa', 'iiphone', 'x256gbhangnhapkhau', 'dienthoa', 'iiphone', '8plus64gbh', 'angchinhhang', 'fpt', 'dienthoa', 'ihtc10h', 'angchinhhang']\n",
      "82 ['dienthoa', 'iiphone', 'x256gbhangnhapkhau', 'dienthoa', 'iiphone', '8plus64gbh', 'angchinhhang', 'fpt', 'dienthoa', 'ihtc10h', 'angchinhhang']\n",
      "82 ['dienthoa', 'iiphone', 'x256gbhangnhapkhau', 'dienthoa', 'iiphone', '8plus64gbh', 'angchinhhang', 'fpt', 'dienthoa', 'ihtc10h', 'angchinhhang']\n",
      "82 ['dienthoa', 'iiphone', 'x256gbhangnhapkhau', 'dienthoa', 'iiphone', '8plus64gbh', 'angchinhhang', 'fpt', 'dienthoa', 'ihtc10h', 'angchinhhang']\n",
      "82 ['dienthoa', 'iiphone', 'x256gbhangnhapkhau', 'dienthoa', 'iiphone', '8plus64gbh', 'angchinhhang', 'fpt', 'dienthoa', 'ihtc10h', 'angchinhhang']\n",
      "82 ['dienthoa', 'iiphone', 'x256gbhangnhapkhau', 'dienthoa', 'iiphone', '8plus64gbh', 'angchinhhang', 'fpt', 'dienthoa', 'ihtc10h', 'angchinhhang']\n",
      "82 ['dienthoa', 'iiphone', 'x256gbhangnhapkhau', 'dienthoa', 'iiphone', '8plus64gbh', 'angchinhhang', 'fpt', 'dienthoa', 'ihtc10h', 'angchinhhang']\n",
      "82 ['dienthoa', 'iiphone', 'x256gbhangnhapkhau', 'dienthoa', 'iiphone', '8plus64gbh', 'angchinhhang', 'fpt', 'dienthoa', 'ihtc10h', 'angchinhhang']\n",
      "82 ['dienthoa', 'iiphone', 'x256gbhangnhapkhau', 'dienthoa', 'iiphone', '8plus64gbh', 'angchinhhang', 'fpt', 'dienthoa', 'ihtc10h', 'angchinhhang']\n",
      "82 ['dienthoa', 'iiphone', 'x256gbhangnhapkhau', 'dienthoa', 'iiphone', '8plus64gbh', 'angchinhhang', 'fpt', 'dienthoa', 'ihtc10h', 'angchinhhang']\n",
      "82 ['dienthoa', 'iiphone', 'x256gbhangnhapkhau', 'dienthoa', 'iiphone', '8plus64gbh', 'angchinhhang', 'fpt', 'dienthoa', 'ihtc10h', 'angchinhhang']\n",
      "82 ['dienthoa', 'iiphone', 'x256gbhangnhapkhau', 'dienthoa', 'iiphone', '8plus64gbh', 'angchinhhang', 'fpt', 'dienthoa', 'ihtc10h', 'angchinhhang']\n",
      "82 ['dienthoa', 'iiphone', 'x256gbhangnhapkhau', 'dienthoa', 'iiphone', '8plus64gbh', 'angchinhhang', 'fpt', 'dienthoa', 'ihtc10h', 'angchinhhang']\n",
      "82 ['dienthoa', 'iiphone', 'x256gbhangnhapkhau', 'dienthoa', 'iiphone', '8plus64gbh', 'angchinhhang', 'fpt', 'dienthoa', 'ihtc10h', 'angchinhhang']\n",
      "82 ['dienthoa', 'iiphone', 'x256gbhangnhapkhau', 'dienthoa', 'iiphone', '8plus64gbh', 'angchinhhang', 'fpt', 'dienthoa', 'ihtc10h', 'angchinhhang']\n"
     ]
    }
   ],
   "source": [
    "# Sample 1\n",
    "text = \"dienthoaiiphonex256gbhangnhapkhaudienthoaiiphone8plus64gbhangchinhhangfptdienthoaihtc10hangchinhhang\"\n",
    "seg1 = \"0000000000000000000000000000000010000000000000000000000000000000000000001000000000000000000000000001\"\n",
    "score, final_seg = anneal(text, seg1, 10000, 1.1)"
   ]
  },
  {
   "cell_type": "code",
   "execution_count": 4,
   "metadata": {},
   "outputs": [
    {
     "name": "stdout",
     "output_type": "stream",
     "text": [
      "82 ['dienthoai', 'iphone', 'x256gbhangnhapkhau', 'dienthoai', 'iphone', '8plus64gb', 'hangchinhhang', 'fpt', 'dienthoai', 'htc10', 'hangchinhhang', '']\n",
      "82 ['dienthoai', 'iphone', 'x256gbhangnhapkhau', 'dienthoai', 'iphone', '8plus64gb', 'hangchinhhang', 'fpt', 'dienthoai', 'htc10', 'hangchinhhang', '']\n",
      "82 ['dienthoai', 'iphone', 'x256gbhangnhapkhau', 'dienthoai', 'iphone', '8plus64gb', 'hangchinhhang', 'fpt', 'dienthoai', 'htc10', 'hangchinhhang', '']\n",
      "82 ['dienthoai', 'iphone', 'x256gbhangnhapkhau', 'dienthoai', 'iphone', '8plus64gb', 'hangchinhhang', 'fpt', 'dienthoai', 'htc10', 'hangchinhhang', '']\n",
      "82 ['dienthoai', 'iphone', 'x256gbhangnhapkhau', 'dienthoai', 'iphone', '8plus64gb', 'hangchinhhang', 'fpt', 'dienthoai', 'htc10', 'hangchinhhang', '']\n",
      "82 ['dienthoai', 'iphone', 'x256gbhangnhapkhau', 'dienthoai', 'iphone', '8plus64gb', 'hangchinhhang', 'fpt', 'dienthoai', 'htc10', 'hangchinhhang', '']\n",
      "82 ['dienthoai', 'iphone', 'x256gbhangnhapkhau', 'dienthoai', 'iphone', '8plus64gb', 'hangchinhhang', 'fpt', 'dienthoai', 'htc10', 'hangchinhhang', '']\n",
      "82 ['dienthoai', 'iphone', 'x256gbhangnhapkhau', 'dienthoai', 'iphone', '8plus64gb', 'hangchinhhang', 'fpt', 'dienthoai', 'htc10', 'hangchinhhang', '']\n",
      "82 ['dienthoai', 'iphone', 'x256gbhangnhapkhau', 'dienthoai', 'iphone', '8plus64gb', 'hangchinhhang', 'fpt', 'dienthoai', 'htc10', 'hangchinhhang', '']\n",
      "82 ['dienthoai', 'iphone', 'x256gbhangnhapkhau', 'dienthoai', 'iphone', '8plus64gb', 'hangchinhhang', 'fpt', 'dienthoai', 'htc10', 'hangchinhhang', '']\n",
      "82 ['dienthoai', 'iphone', 'x256gbhangnhapkhau', 'dienthoai', 'iphone', '8plus64gb', 'hangchinhhang', 'fpt', 'dienthoai', 'htc10', 'hangchinhhang', '']\n",
      "82 ['dienthoai', 'iphone', 'x256gbhangnhapkhau', 'dienthoai', 'iphone', '8plus64gb', 'hangchinhhang', 'fpt', 'dienthoai', 'htc10', 'hangchinhhang', '']\n",
      "82 ['dienthoai', 'iphone', 'x256gbhangnhapkhau', 'dienthoai', 'iphone', '8plus64gb', 'hangchinhhang', 'fpt', 'dienthoai', 'htc10', 'hangchinhhang', '']\n",
      "82 ['dienthoai', 'iphone', 'x256gbhangnhapkhau', 'dienthoai', 'iphone', '8plus64gb', 'hangchinhhang', 'fpt', 'dienthoai', 'htc10', 'hangchinhhang', '']\n",
      "82 ['dienthoai', 'iphone', 'x256gbhangnhapkhau', 'dienthoai', 'iphone', '8plus64gb', 'hangchinhhang', 'fpt', 'dienthoai', 'htc10', 'hangchinhhang', '']\n",
      "82 ['dienthoai', 'iphone', 'x256gbhangnhapkhau', 'dienthoai', 'iphone', '8plus64gb', 'hangchinhhang', 'fpt', 'dienthoai', 'htc10', 'hangchinhhang', '']\n",
      "82 ['dienthoai', 'iphone', 'x256gbhangnhapkhau', 'dienthoai', 'iphone', '8plus64gb', 'hangchinhhang', 'fpt', 'dienthoai', 'htc10', 'hangchinhhang', '']\n",
      "82 ['dienthoai', 'iphone', 'x256gbhangnhapkhau', 'dienthoai', 'iphone', '8plus64gb', 'hangchinhhang', 'fpt', 'dienthoai', 'htc10', 'hangchinhhang', '']\n",
      "82 ['dienthoai', 'iphone', 'x256gbhangnhapkhau', 'dienthoai', 'iphone', '8plus64gb', 'hangchinhhang', 'fpt', 'dienthoai', 'htc10', 'hangchinhhang', '']\n",
      "82 ['dienthoai', 'iphone', 'x256gbhangnhapkhau', 'dienthoai', 'iphone', '8plus64gb', 'hangchinhhang', 'fpt', 'dienthoai', 'htc10', 'hangchinhhang', '']\n",
      "82 ['dienthoai', 'iphone', 'x256gbhangnhapkhau', 'dienthoai', 'iphone', '8plus64gb', 'hangchinhhang', 'fpt', 'dienthoai', 'htc10', 'hangchinhhang', '']\n",
      "82 ['dienthoai', 'iphone', 'x256gbhangnhapkhau', 'dienthoai', 'iphone', '8plus64gb', 'hangchinhhang', 'fpt', 'dienthoai', 'htc10', 'hangchinhhang', '']\n",
      "82 ['dienthoai', 'iphone', 'x256gbhangnhapkhau', 'dienthoai', 'iphone', '8plus64gb', 'hangchinhhang', 'fpt', 'dienthoai', 'htc10', 'hangchinhhang', '']\n",
      "82 ['dienthoai', 'iphone', 'x256gbhangnhapkhau', 'dienthoai', 'iphone', '8plus64gb', 'hangchinhhang', 'fpt', 'dienthoai', 'htc10', 'hangchinhhang', '']\n",
      "82 ['dienthoai', 'iphone', 'x256gbhangnhapkhau', 'dienthoai', 'iphone', '8plus64gb', 'hangchinhhang', 'fpt', 'dienthoai', 'htc10', 'hangchinhhang', '']\n",
      "82 ['dienthoai', 'iphone', 'x256gbhangnhapkhau', 'dienthoai', 'iphone', '8plus64gb', 'hangchinhhang', 'fpt', 'dienthoai', 'htc10', 'hangchinhhang', '']\n",
      "82 ['dienthoai', 'iphone', 'x256gbhangnhapkhau', 'dienthoai', 'iphone', '8plus64gb', 'hangchinhhang', 'fpt', 'dienthoai', 'htc10', 'hangchinhhang', '']\n",
      "82 ['dienthoai', 'iphone', 'x256gbhangnhapkhau', 'dienthoai', 'iphone', '8plus64gb', 'hangchinhhang', 'fpt', 'dienthoai', 'htc10', 'hangchinhhang', '']\n",
      "82 ['dienthoai', 'iphone', 'x256gbhangnhapkhau', 'dienthoai', 'iphone', '8plus64gb', 'hangchinhhang', 'fpt', 'dienthoai', 'htc10', 'hangchinhhang', '']\n",
      "82 ['dienthoai', 'iphone', 'x256gbhangnhapkhau', 'dienthoai', 'iphone', '8plus64gb', 'hangchinhhang', 'fpt', 'dienthoai', 'htc10', 'hangchinhhang', '']\n",
      "82 ['dienthoai', 'iphone', 'x256gbhangnhapkhau', 'dienthoai', 'iphone', '8plus64gb', 'hangchinhhang', 'fpt', 'dienthoai', 'htc10', 'hangchinhhang', '']\n",
      "82 ['dienthoai', 'iphone', 'x256gbhangnhapkhau', 'dienthoai', 'iphone', '8plus64gb', 'hangchinhhang', 'fpt', 'dienthoai', 'htc10', 'hangchinhhang', '']\n",
      "82 ['dienthoai', 'iphone', 'x256gbhangnhapkhau', 'dienthoai', 'iphone', '8plus64gb', 'hangchinhhang', 'fpt', 'dienthoai', 'htc10', 'hangchinhhang', '']\n",
      "82 ['dienthoai', 'iphone', 'x256gbhangnhapkhau', 'dienthoai', 'iphone', '8plus64gb', 'hangchinhhang', 'fpt', 'dienthoai', 'htc10', 'hangchinhhang', '']\n",
      "82 ['dienthoai', 'iphone', 'x256gbhangnhapkhau', 'dienthoai', 'iphone', '8plus64gb', 'hangchinhhang', 'fpt', 'dienthoai', 'htc10', 'hangchinhhang', '']\n",
      "82 ['dienthoai', 'iphone', 'x256gbhangnhapkhau', 'dienthoai', 'iphone', '8plus64gb', 'hangchinhhang', 'fpt', 'dienthoai', 'htc10', 'hangchinhhang', '']\n",
      "80 ['dienthoai', 'iphone', 'x256gbhangnhapkhau', 'dienthoai', 'iphone', '8plus64gb', 'hangchinhhang', 'fpt', 'dienthoai', 'htc10', 'hangchinhhang']\n",
      "80 ['dienthoai', 'iphone', 'x256gbhangnhapkhau', 'dienthoai', 'iphone', '8plus64gb', 'hangchinhhang', 'fpt', 'dienthoai', 'htc10', 'hangchinhhang']\n",
      "80 ['dienthoai', 'iphone', 'x256gbhangnhapkhau', 'dienthoai', 'iphone', '8plus64gb', 'hangchinhhang', 'fpt', 'dienthoai', 'htc10', 'hangchinhhang']\n",
      "80 ['dienthoai', 'iphone', 'x256gbhangnhapkhau', 'dienthoai', 'iphone', '8plus64gb', 'hangchinhhang', 'fpt', 'dienthoai', 'htc10', 'hangchinhhang']\n",
      "80 ['dienthoai', 'iphone', 'x256gbhangnhapkhau', 'dienthoai', 'iphone', '8plus64gb', 'hangchinhhang', 'fpt', 'dienthoai', 'htc10', 'hangchinhhang']\n",
      "80 ['dienthoai', 'iphone', 'x256gbhangnhapkhau', 'dienthoai', 'iphone', '8plus64gb', 'hangchinhhang', 'fpt', 'dienthoai', 'htc10', 'hangchinhhang']\n",
      "80 ['dienthoai', 'iphone', 'x256gbhangnhapkhau', 'dienthoai', 'iphone', '8plus64gb', 'hangchinhhang', 'fpt', 'dienthoai', 'htc10', 'hangchinhhang']\n",
      "80 ['dienthoai', 'iphone', 'x256gbhangnhapkhau', 'dienthoai', 'iphone', '8plus64gb', 'hangchinhhang', 'fpt', 'dienthoai', 'htc10', 'hangchinhhang']\n",
      "80 ['dienthoai', 'iphone', 'x256gbhangnhapkhau', 'dienthoai', 'iphone', '8plus64gb', 'hangchinhhang', 'fpt', 'dienthoai', 'htc10', 'hangchinhhang']\n",
      "80 ['dienthoai', 'iphone', 'x256gbhangnhapkhau', 'dienthoai', 'iphone', '8plus64gb', 'hangchinhhang', 'fpt', 'dienthoai', 'htc10', 'hangchinhhang']\n",
      "80 ['dienthoai', 'iphone', 'x256gbhangnhapkhau', 'dienthoai', 'iphone', '8plus64gb', 'hangchinhhang', 'fpt', 'dienthoai', 'htc10', 'hangchinhhang']\n",
      "80 ['dienthoai', 'iphone', 'x256gbhangnhapkhau', 'dienthoai', 'iphone', '8plus64gb', 'hangchinhhang', 'fpt', 'dienthoai', 'htc10', 'hangchinhhang']\n",
      "80 ['dienthoai', 'iphone', 'x256gbhangnhapkhau', 'dienthoai', 'iphone', '8plus64gb', 'hangchinhhang', 'fpt', 'dienthoai', 'htc10', 'hangchinhhang']\n",
      "80 ['dienthoai', 'iphone', 'x256gbhangnhapkhau', 'dienthoai', 'iphone', '8plus64gb', 'hangchinhhang', 'fpt', 'dienthoai', 'htc10', 'hangchinhhang']\n",
      "80 ['dienthoai', 'iphone', 'x256gbhangnhapkhau', 'dienthoai', 'iphone', '8plus64gb', 'hangchinhhang', 'fpt', 'dienthoai', 'htc10', 'hangchinhhang']\n",
      "80 ['dienthoai', 'iphone', 'x256gbhangnhapkhau', 'dienthoai', 'iphone', '8plus64gb', 'hangchinhhang', 'fpt', 'dienthoai', 'htc10', 'hangchinhhang']\n",
      "80 ['dienthoai', 'iphone', 'x256gbhangnhapkhau', 'dienthoai', 'iphone', '8plus64gb', 'hangchinhhang', 'fpt', 'dienthoai', 'htc10', 'hangchinhhang']\n",
      "80 ['dienthoai', 'iphone', 'x256gbhangnhapkhau', 'dienthoai', 'iphone', '8plus64gb', 'hangchinhhang', 'fpt', 'dienthoai', 'htc10', 'hangchinhhang']\n",
      "80 ['dienthoai', 'iphone', 'x256gbhangnhapkhau', 'dienthoai', 'iphone', '8plus64gb', 'hangchinhhang', 'fpt', 'dienthoai', 'htc10', 'hangchinhhang']\n"
     ]
    },
    {
     "name": "stdout",
     "output_type": "stream",
     "text": [
      "80 ['dienthoai', 'iphone', 'x256gbhangnhapkhau', 'dienthoai', 'iphone', '8plus64gb', 'hangchinhhang', 'fpt', 'dienthoai', 'htc10', 'hangchinhhang']\n",
      "80 ['dienthoai', 'iphone', 'x256gbhangnhapkhau', 'dienthoai', 'iphone', '8plus64gb', 'hangchinhhang', 'fpt', 'dienthoai', 'htc10', 'hangchinhhang']\n",
      "80 ['dienthoai', 'iphone', 'x256gbhangnhapkhau', 'dienthoai', 'iphone', '8plus64gb', 'hangchinhhang', 'fpt', 'dienthoai', 'htc10', 'hangchinhhang']\n",
      "80 ['dienthoai', 'iphone', 'x256gbhangnhapkhau', 'dienthoai', 'iphone', '8plus64gb', 'hangchinhhang', 'fpt', 'dienthoai', 'htc10', 'hangchinhhang']\n",
      "80 ['dienthoai', 'iphone', 'x256gbhangnhapkhau', 'dienthoai', 'iphone', '8plus64gb', 'hangchinhhang', 'fpt', 'dienthoai', 'htc10', 'hangchinhhang']\n",
      "80 ['dienthoai', 'iphone', 'x256gbhangnhapkhau', 'dienthoai', 'iphone', '8plus64gb', 'hangchinhhang', 'fpt', 'dienthoai', 'htc10', 'hangchinhhang']\n",
      "80 ['dienthoai', 'iphone', 'x256gbhangnhapkhau', 'dienthoai', 'iphone', '8plus64gb', 'hangchinhhang', 'fpt', 'dienthoai', 'htc10', 'hangchinhhang']\n",
      "80 ['dienthoai', 'iphone', 'x256gbhangnhapkhau', 'dienthoai', 'iphone', '8plus64gb', 'hangchinhhang', 'fpt', 'dienthoai', 'htc10', 'hangchinhhang']\n",
      "80 ['dienthoai', 'iphone', 'x256gbhangnhapkhau', 'dienthoai', 'iphone', '8plus64gb', 'hangchinhhang', 'fpt', 'dienthoai', 'htc10', 'hangchinhhang']\n",
      "80 ['dienthoai', 'iphone', 'x256gbhangnhapkhau', 'dienthoai', 'iphone', '8plus64gb', 'hangchinhhang', 'fpt', 'dienthoai', 'htc10', 'hangchinhhang']\n",
      "80 ['dienthoai', 'iphone', 'x256gbhangnhapkhau', 'dienthoai', 'iphone', '8plus64gb', 'hangchinhhang', 'fpt', 'dienthoai', 'htc10', 'hangchinhhang']\n",
      "80 ['dienthoai', 'iphone', 'x256gbhangnhapkhau', 'dienthoai', 'iphone', '8plus64gb', 'hangchinhhang', 'fpt', 'dienthoai', 'htc10', 'hangchinhhang']\n",
      "80 ['dienthoai', 'iphone', 'x256gbhangnhapkhau', 'dienthoai', 'iphone', '8plus64gb', 'hangchinhhang', 'fpt', 'dienthoai', 'htc10', 'hangchinhhang']\n",
      "80 ['dienthoai', 'iphone', 'x256gbhangnhapkhau', 'dienthoai', 'iphone', '8plus64gb', 'hangchinhhang', 'fpt', 'dienthoai', 'htc10', 'hangchinhhang']\n",
      "80 ['dienthoai', 'iphone', 'x256gbhangnhapkhau', 'dienthoai', 'iphone', '8plus64gb', 'hangchinhhang', 'fpt', 'dienthoai', 'htc10', 'hangchinhhang']\n",
      "80 ['dienthoai', 'iphone', 'x256gbhangnhapkhau', 'dienthoai', 'iphone', '8plus64gb', 'hangchinhhang', 'fpt', 'dienthoai', 'htc10', 'hangchinhhang']\n",
      "80 ['dienthoai', 'iphone', 'x256gbhangnhapkhau', 'dienthoai', 'iphone', '8plus64gb', 'hangchinhhang', 'fpt', 'dienthoai', 'htc10', 'hangchinhhang']\n",
      "80 ['dienthoai', 'iphone', 'x256gbhangnhapkhau', 'dienthoai', 'iphone', '8plus64gb', 'hangchinhhang', 'fpt', 'dienthoai', 'htc10', 'hangchinhhang']\n"
     ]
    }
   ],
   "source": [
    "#Sample 2\n",
    "text = \"dienthoaiiphonex256gbhangnhapkhaudienthoaiiphone8plus64gbhangchinhhangfptdienthoaihtc10hangchinhhang\"\n",
    "seg1 = \"0000000010000010000000000000000010000000010000010000000010000000000001001000000001000010000000000001\"\n",
    "score, final_seg = anneal(text, seg1, 10000, 1.1)"
   ]
  },
  {
   "cell_type": "code",
   "execution_count": 84,
   "metadata": {},
   "outputs": [
    {
     "name": "stdout",
     "output_type": "stream",
     "text": [
      "00000000000000000100000000010000000000000001000000000000000100000000000000001000000000000000000000000000000000000000000010000000000000000000000000000000001000000000000000000000000000000000000010000000000000000000000000000000000100000000000000000000000000000000000000100000000000000000000000000000000010000000000000000000000000000000000000100000000000000000000000000000001000000000000000000000000000000000001000000000000000000000000000000000000001000000000000000000000000000000000100000000000000000000000001000000000000000000000000001000000000000000000000000000000001000000000000000000000000100000000000000000000000000000000000000000000000000000000000001000000000000000000000000000000000000000000010000000000000000000000000000000000000000100000000000000000000000000000000000000000000000010000000000000000000000000000000000000100000000000000000000000000000000000000000000000100000000000000000000000000001000000000000000000000000000000100000000000000000000000000000000000000000000000000000000000010000000000000000000000000000000000000000000000000000000010000000000000000000000000000000000000000000000000000000000001000000000000000000000000000000000000000000000000000000000000010000000000000000000000000000000000000100000000000000000000000000000000000000000000000100000000000000000000000000000000010000000000000000000000000000000000100000000000000000000000000000000000001000000000000000000000000000000000000010000000000000000000000000000000000000000000001000000000000000000000000000000000000000000000000010000000000000000000000000000000000000000000000000000100000000000000000000000000000000000000000000000000001000000000000000000000000000000000000000000000000001000000000000000000000000000000000000000000000000000100000000000000000000000000000000000000000000000001000000000000000000000000000000000000000000000000000100000000000000000000000000000000000000000000000001000000000000000000000000000000000000000000000000000000001000000000000000000000000000000000000000000000000000010000000000000000000000000000000000000000000000000000010000000000000000000000000000000000000000000000000000000100000000000000000000000000000000000000000000000000000100000000000000000000000000000000000000000000000010000000000000000000000000000000000000100000000000000000000000000000000000001000000000000000000000000000000000000100000000000000000000000000000000000001000000000000000000000000000000000000010000000000000000000000000000000000000000000000100000000000000000000000000000000000000000000000000100000000000000000000000000000000000000000000000000100000000000000000000000000000000000000000000000010000000000000000000000000000000000000000000000100000000000000000000000000000000000000000001000000000000000000000000000000000000000000000001000000000000000000000000000000000000000000001000000000000000000000000000000000000000010000000000000000000000000000000000000000000000001000000000000000000000000000000000000000001000000000000000000000000000000000000000000000000000000010000000000000000000000000000000000000000000000000000000000010000000000000000000000000000000000000000000000100000000000000000000000000000000000000000000000010000000000000000000000000000000000000000000000000100000000000000000000000000000000000000000000001000000000000000000000000000000000000000100000000000000000000000000000000000000001000000000000000000000000000000000000000000100000000000000000000000000000000000000000100000000000000000000000000000000000000001000000000000000000000000000000000000000000010000000000000000000000000000000000000000000010000000000000000000000000000000000000000000000100000000000000000000000000000000000000000000000000100000000000000000000000000000000000000000000010000000000000000000000000000000000000000000000000100000000000000000000000000000000000000000000000100000000000000000000000000000000000000000001000000000000000000000000000000000000000000010000000000000000000000000000000000000000100000000000000000000000000000000000000000000010000000000000000000000000000000000000010000000000000000000000000000000000000001000000000000000000000000000000000000001000000000000000000000000000000000100000000000000000000000000000000000000100000000000000000000000000000000001000000000000000000000000000000000000000000010000000000000000000000000000000000000000000001000000000000000000000000000000010000000000000000000000000000000000001000000000000000000000000000000000000100000000000000000000000000000000000000100000000000000000000000000000000000000000000000000000010000000000000000000000000000000000000000000000000000100000000000000000000000000000000000000000000000001000000000000000000000000000000000000000000000000000000100000000000000000000000000000000000000000000100000000000000000000000000000000100000000000000000000000000000000100000000000000000000000000000000010000000000000000000000000000000000001000000000000000000000000000000000000010000000000000000000000000000000010000000000000000000000000000000001000000000000000000000000000000000000100000000000000000000000000000000000000001000000000000000000000000000000000000000000001000000000000000000000000000000000000001000000000000000000000000000000000000000001000000000000000000000000000000000000000000000010000000000000000000000000000000000000000000100000000000000000000000000000000000000000000010000000000000000000000000000000000000000000000100000000000000000000000000000000000000000001000000000000000000000000000000000100000000000000000000000000000000000000000000010000000000000000000000000000000010000000000000000000000000000000000001000000000000000000000000000000000000000100000000000000000000000100000000000000000000000000000000000000000100000000000000000000000000000000010000000000000000000000000000000000000100000000000000000000000000000000000000010000000000000000000000000000000000000000100000000000000000000000000000000000100000000000000000000000000000000000000010000000000000000000000000000000000000000000001000000000000000000000000000000000000100000000000000000000000000000000001000000000000000000000000000000000000000100000000000000000000000000000001000000000000000000000000000000000000000010000000000000000000000000000000000001000000000000000000000000000000000000000000100000000000000000000000000000000000000010000000000000000000000000000000000000000010000000000000000000000000000000000000000100000000000000000000000000000000000010000000000000000000000000000000000000000000000010000000000000000000000000000000000000000000000100000000000000000000000000000000000001000000000000000000000000000000000001000000000000000000000000000000000000100000000000000000000000000000000000000010000000000000000000000000000000000000000001000000000000000000000000000000000000000000010000000000000000000000000000000000000000000000000000100000000000000000000000000000000000000000000100000000000000000000000000000000000000000000100000000000000000000000000000000000000000001000000000000000000000000000000000000000001000000000000000000000000000000000000000000000000000010000000000000000000000000000000000000000000001000000000000000000000000000000000000000000000000000000001000000000000000000000000000000000000000000000000000010000000000000000000000000000000000000000000000000000000010000000000000000000000000000000000000000001000000000000000000000000000000000000010000000000000000000000000000000000000000001000000000000000000000000000000000000100000000000000000000000000000000000000000100000000000000000000000000000000000100000000000000000000000000000000000000001000000000000000000000000000000000000001000000000000000000000000000000000000001000000000000000000000000000000000000000000000010000000000000000000000000000000000000000000100000000000000000000000000000000000000000000001000000000000000000000000000000000000000000000001000000000000000000000000000000000000000000010000000000000000000000000000000000000000000001000000000000000000000000000000000000000000000000100000000000000000000000000000000000000100000000000000000000000000000000001000000000000000000000000000000000000000100000000000000000000000000000000000000000000100000000000000000000000000000000000000000100000000000000000000000000000000000000010000000000000000000000000000000000000000000100000000000000000000000000000000010000000000000000000001000000000000000000000000100000000000000000001000000000000000000000000000000000000000000000000000000001000000000000000000000000000000010000000000000000000000000000000000000010000000000000000000000000000001000000000000000000000000000000000000000000000000000000100000000000000000000000000000000000000000000000001000000000000000000000000000000000000000000000000010000000000000000000000000000000000000000000000000\n"
     ]
    }
   ],
   "source": [
    "# Tiki Product\n",
    "text = ''.join(names)\n",
    "seg = default_segmentation(names)\n",
    "score, final_seg = anneal(text, seg1, 10000, 1.1)"
   ]
  },
  {
   "cell_type": "code",
   "execution_count": null,
   "metadata": {
    "collapsed": true
   },
   "outputs": [],
   "source": []
  }
 ],
 "metadata": {
  "kernelspec": {
   "display_name": "Python 2",
   "language": "python",
   "name": "python2"
  },
  "language_info": {
   "codemirror_mode": {
    "name": "ipython",
    "version": 2
   },
   "file_extension": ".py",
   "mimetype": "text/x-python",
   "name": "python",
   "nbconvert_exporter": "python",
   "pygments_lexer": "ipython2",
   "version": "2.7.13"
  }
 },
 "nbformat": 4,
 "nbformat_minor": 2
}
